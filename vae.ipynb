{
 "cells": [
  {
   "cell_type": "markdown",
   "metadata": {},
   "source": [
    "# Variational Auto Encoder\n",
    "具体的实现方式参考这篇文章：arXiv:2009.02040"
   ]
  },
  {
   "cell_type": "code",
   "execution_count": null,
   "metadata": {},
   "outputs": [],
   "source": [
    "import tensorflow as tf\n",
    "import tensorflow.keras as keras\n",
    "from tensorflow.karas.layers import Layer, Dense\n",
    "import numpy as np"
   ]
  },
  {
   "cell_type": "code",
   "execution_count": null,
   "metadata": {},
   "outputs": [],
   "source": [
    "# * 探索代码\n",
    "## 代码未调通.\n",
    "## 生成弦波合成数据集\n",
    "## 修正维度，补全reduce_sum部分"
   ]
  },
  {
   "cell_type": "markdown",
   "metadata": {},
   "source": [
    "# Code Repo"
   ]
  },
  {
   "cell_type": "code",
   "execution_count": null,
   "metadata": {},
   "outputs": [],
   "source": [
    "# Encoder\n",
    "latent_dim = 2\n",
    "## 因为对编码器q(z|x)、解码器p(x|z)做了服从正态分布的假设，所以这里需要进行一次特征空间的变换.\n",
    "x_h = Dense(16, activation=\"relu\")(x)\n",
    "z_mu = Dense(latent_dim)(x_h)\n",
    "z_log_var = Dense(latent_dim)(x_h)\n",
    "## re-parameterization trick\n",
    "z_variance = tf.math.exp(z_log_var)\n",
    "z_standard_deviation = tf.math.sqrt(z_variance)\n",
    "epsilon = tf.random.normal()\n",
    "z = z_mu + z_standard_deviation * epsilon\n",
    "\n",
    "# Decoder\n",
    "x_hat_mu = Dense(latent_dim)(z)\n",
    "x_hat_log_var = Dense(latent_dim)(z)\n",
    "x_hat_variance = tf.math.exp(x_hat_log_var)\n",
    "\n",
    "feature_probability = pdf(x, x_hat_mu, x_hat_variance)\n",
    "reconstruct_log_loss = tf.math.log(feature_probability + tf.constant(1e-35, dtype=tf.float32))\n",
    "dKL = ((1 + tf.math.log(tf.math.square(z_standard_deviation))) - tf.math.square(z_mu) - tf.math.square(z_standard_deviation)) / 2\n",
    "\n",
    "elbo = -(reconstruct_log_loss + dKL)"
   ]
  },
  {
   "cell_type": "code",
   "execution_count": null,
   "metadata": {},
   "outputs": [],
   "source": [
    "# 正态分布概率密度函数\n",
    "def pdf(data, mu, var):\n",
    "    pi = tf.constant(math.pi, dtype=tf.float32)\n",
    "    epsilon = tf.constant(1e-14, dtype=tf.float32)\n",
    "    return tf.math.exp(-tf.math.pow(data - mu, 2) / (2.0 * (var + epsilon))) / tf.math.sqrt(2.0 * pi * (var + epsilon))"
   ]
  }
 ],
 "metadata": {
  "language_info": {
   "name": "python"
  },
  "orig_nbformat": 4
 },
 "nbformat": 4,
 "nbformat_minor": 2
}
